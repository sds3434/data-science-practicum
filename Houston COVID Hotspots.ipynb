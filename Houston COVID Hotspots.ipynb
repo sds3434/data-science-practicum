{
 "cells": [
  {
   "cell_type": "markdown",
   "id": "edf1c70b",
   "metadata": {},
   "source": [
    "## Overview:\n",
    "\n",
    "Houston COVID data needs to be formatted and analyzed to rank the Houston zip codes by COVID positivity rate. \n",
    "\n",
    "\"Provider\" and \"Physician\" columns have been scrambled."
   ]
  },
  {
   "cell_type": "markdown",
   "id": "16e640d3",
   "metadata": {},
   "source": [
    "## Ingest the Data"
   ]
  },
  {
   "cell_type": "code",
   "execution_count": 2,
   "id": "e6c19559",
   "metadata": {},
   "outputs": [],
   "source": [
    "import numpy as np\n",
    "import pandas as pd\n",
    "import matplotlib.pyplot as plt\n",
    "import seaborn as sns\n",
    "import warnings\n",
    "warnings.filterwarnings(\"ignore\")\n",
    "from PIL import Image "
   ]
  },
  {
   "cell_type": "code",
   "execution_count": 3,
   "id": "c94aef31",
   "metadata": {},
   "outputs": [],
   "source": [
    "# read the dataset \"out.csv\"\n",
    "df = pd.read_csv('out.csv')"
   ]
  },
  {
   "cell_type": "code",
   "execution_count": 5,
   "id": "762c7b7a",
   "metadata": {},
   "outputs": [
    {
     "data": {
      "text/html": [
       "<div>\n",
       "<style scoped>\n",
       "    .dataframe tbody tr th:only-of-type {\n",
       "        vertical-align: middle;\n",
       "    }\n",
       "\n",
       "    .dataframe tbody tr th {\n",
       "        vertical-align: top;\n",
       "    }\n",
       "\n",
       "    .dataframe thead th {\n",
       "        text-align: right;\n",
       "    }\n",
       "</style>\n",
       "<table border=\"1\" class=\"dataframe\">\n",
       "  <thead>\n",
       "    <tr style=\"text-align: right;\">\n",
       "      <th></th>\n",
       "      <th>P_ID</th>\n",
       "      <th>P_ZIP</th>\n",
       "      <th>Provider</th>\n",
       "      <th>Physician</th>\n",
       "      <th>Result</th>\n",
       "      <th>CollDate</th>\n",
       "      <th>P_RACE</th>\n",
       "      <th>P_GENDER</th>\n",
       "      <th>P_HOSP</th>\n",
       "    </tr>\n",
       "  </thead>\n",
       "  <tbody>\n",
       "    <tr>\n",
       "      <th>0</th>\n",
       "      <td>EP68915</td>\n",
       "      <td>77003</td>\n",
       "      <td>gF1</td>\n",
       "      <td>yYn</td>\n",
       "      <td>POSITIVE</td>\n",
       "      <td>2021-09-25</td>\n",
       "      <td>Native Hawaiian or Pacific Islander</td>\n",
       "      <td>M</td>\n",
       "      <td>F</td>\n",
       "    </tr>\n",
       "    <tr>\n",
       "      <th>1</th>\n",
       "      <td>Lg39984</td>\n",
       "      <td>77007</td>\n",
       "      <td>bP34</td>\n",
       "      <td>ubb</td>\n",
       "      <td>NEGATIVE</td>\n",
       "      <td>2021-09-26</td>\n",
       "      <td>More than one race</td>\n",
       "      <td>M</td>\n",
       "      <td>F</td>\n",
       "    </tr>\n",
       "    <tr>\n",
       "      <th>2</th>\n",
       "      <td>FJ67394</td>\n",
       "      <td>77001</td>\n",
       "      <td>Ro48</td>\n",
       "      <td>owo</td>\n",
       "      <td>POSITIVE</td>\n",
       "      <td>2021-09-08</td>\n",
       "      <td>White</td>\n",
       "      <td>M</td>\n",
       "      <td>F</td>\n",
       "    </tr>\n",
       "    <tr>\n",
       "      <th>3</th>\n",
       "      <td>hV48848</td>\n",
       "      <td>77008</td>\n",
       "      <td>GB32</td>\n",
       "      <td>vUT</td>\n",
       "      <td>POSITIVE</td>\n",
       "      <td>2021-09-21</td>\n",
       "      <td>Asian</td>\n",
       "      <td>M</td>\n",
       "      <td>F</td>\n",
       "    </tr>\n",
       "    <tr>\n",
       "      <th>4</th>\n",
       "      <td>cE87201</td>\n",
       "      <td>77016</td>\n",
       "      <td>zA42</td>\n",
       "      <td>pVZ</td>\n",
       "      <td>NEGATIVE</td>\n",
       "      <td>2021-09-13</td>\n",
       "      <td>White</td>\n",
       "      <td>F</td>\n",
       "      <td>F</td>\n",
       "    </tr>\n",
       "  </tbody>\n",
       "</table>\n",
       "</div>"
      ],
      "text/plain": [
       "      P_ID  P_ZIP Provider Physician    Result    CollDate  \\\n",
       "0  EP68915  77003      gF1       yYn  POSITIVE  2021-09-25   \n",
       "1  Lg39984  77007     bP34       ubb  NEGATIVE  2021-09-26   \n",
       "2  FJ67394  77001     Ro48       owo  POSITIVE  2021-09-08   \n",
       "3  hV48848  77008     GB32       vUT  POSITIVE  2021-09-21   \n",
       "4  cE87201  77016     zA42       pVZ  NEGATIVE  2021-09-13   \n",
       "\n",
       "                                P_RACE P_GENDER P_HOSP  \n",
       "0  Native Hawaiian or Pacific Islander        M      F  \n",
       "1                   More than one race        M      F  \n",
       "2                                White        M      F  \n",
       "3                                Asian        M      F  \n",
       "4                                White        F      F  "
      ]
     },
     "execution_count": 5,
     "metadata": {},
     "output_type": "execute_result"
    }
   ],
   "source": [
    "# data overview \n",
    "df.head()"
   ]
  },
  {
   "cell_type": "code",
   "execution_count": 6,
   "id": "297dcf24",
   "metadata": {},
   "outputs": [
    {
     "data": {
      "text/plain": [
       "(5000, 9)"
      ]
     },
     "execution_count": 6,
     "metadata": {},
     "output_type": "execute_result"
    }
   ],
   "source": [
    "df.shape"
   ]
  },
  {
   "cell_type": "code",
   "execution_count": 7,
   "id": "4d0d9486",
   "metadata": {},
   "outputs": [
    {
     "name": "stdout",
     "output_type": "stream",
     "text": [
      "<class 'pandas.core.frame.DataFrame'>\n",
      "RangeIndex: 5000 entries, 0 to 4999\n",
      "Data columns (total 9 columns):\n",
      " #   Column     Non-Null Count  Dtype \n",
      "---  ------     --------------  ----- \n",
      " 0   P_ID       5000 non-null   object\n",
      " 1   P_ZIP      5000 non-null   int64 \n",
      " 2   Provider   5000 non-null   object\n",
      " 3   Physician  5000 non-null   object\n",
      " 4   Result     5000 non-null   object\n",
      " 5   CollDate   5000 non-null   object\n",
      " 6   P_RACE     5000 non-null   object\n",
      " 7   P_GENDER   5000 non-null   object\n",
      " 8   P_HOSP     5000 non-null   object\n",
      "dtypes: int64(1), object(8)\n",
      "memory usage: 351.7+ KB\n"
     ]
    }
   ],
   "source": [
    "df.info()"
   ]
  },
  {
   "cell_type": "code",
   "execution_count": 8,
   "id": "0f8180c9",
   "metadata": {},
   "outputs": [
    {
     "data": {
      "text/plain": [
       "P_ID         0\n",
       "P_ZIP        0\n",
       "Provider     0\n",
       "Physician    0\n",
       "Result       0\n",
       "CollDate     0\n",
       "P_RACE       0\n",
       "P_GENDER     0\n",
       "P_HOSP       0\n",
       "dtype: int64"
      ]
     },
     "execution_count": 8,
     "metadata": {},
     "output_type": "execute_result"
    }
   ],
   "source": [
    "df.isnull().sum()"
   ]
  },
  {
   "cell_type": "code",
   "execution_count": 9,
   "id": "1854e707",
   "metadata": {},
   "outputs": [
    {
     "data": {
      "text/html": [
       "<div>\n",
       "<style scoped>\n",
       "    .dataframe tbody tr th:only-of-type {\n",
       "        vertical-align: middle;\n",
       "    }\n",
       "\n",
       "    .dataframe tbody tr th {\n",
       "        vertical-align: top;\n",
       "    }\n",
       "\n",
       "    .dataframe thead th {\n",
       "        text-align: right;\n",
       "    }\n",
       "</style>\n",
       "<table border=\"1\" class=\"dataframe\">\n",
       "  <thead>\n",
       "    <tr style=\"text-align: right;\">\n",
       "      <th></th>\n",
       "      <th>count</th>\n",
       "      <th>mean</th>\n",
       "      <th>std</th>\n",
       "      <th>min</th>\n",
       "      <th>25%</th>\n",
       "      <th>50%</th>\n",
       "      <th>75%</th>\n",
       "      <th>max</th>\n",
       "    </tr>\n",
       "  </thead>\n",
       "  <tbody>\n",
       "    <tr>\n",
       "      <th>P_ZIP</th>\n",
       "      <td>5000.0</td>\n",
       "      <td>77007.6842</td>\n",
       "      <td>5.446687</td>\n",
       "      <td>77001.0</td>\n",
       "      <td>77003.0</td>\n",
       "      <td>77007.0</td>\n",
       "      <td>77009.0</td>\n",
       "      <td>77020.0</td>\n",
       "    </tr>\n",
       "  </tbody>\n",
       "</table>\n",
       "</div>"
      ],
      "text/plain": [
       "        count        mean       std      min      25%      50%      75%  \\\n",
       "P_ZIP  5000.0  77007.6842  5.446687  77001.0  77003.0  77007.0  77009.0   \n",
       "\n",
       "           max  \n",
       "P_ZIP  77020.0  "
      ]
     },
     "execution_count": 9,
     "metadata": {},
     "output_type": "execute_result"
    }
   ],
   "source": [
    "df.describe().T "
   ]
  },
  {
   "cell_type": "code",
   "execution_count": 18,
   "id": "c32830f4",
   "metadata": {},
   "outputs": [
    {
     "data": {
      "text/plain": [
       "77001    455\n",
       "77008    440\n",
       "77009    437\n",
       "77012    435\n",
       "77003    424\n",
       "77007    416\n",
       "77006    414\n",
       "77016    400\n",
       "77005    397\n",
       "77002    396\n",
       "77020    394\n",
       "77004    392\n",
       "Name: P_ZIP, dtype: int64"
      ]
     },
     "execution_count": 18,
     "metadata": {},
     "output_type": "execute_result"
    }
   ],
   "source": [
    "df['P_ZIP'].value_counts()"
   ]
  },
  {
   "cell_type": "code",
   "execution_count": 11,
   "id": "6ca63d6a",
   "metadata": {},
   "outputs": [
    {
     "data": {
      "text/plain": [
       "NEGATIVE    2561\n",
       "POSITIVE    2439\n",
       "Name: Result, dtype: int64"
      ]
     },
     "execution_count": 11,
     "metadata": {},
     "output_type": "execute_result"
    }
   ],
   "source": [
    "df['Result'].value_counts()"
   ]
  },
  {
   "cell_type": "code",
   "execution_count": 12,
   "id": "b9d692b7",
   "metadata": {},
   "outputs": [
    {
     "data": {
      "text/plain": [
       "2021-09-03    224\n",
       "2021-09-08    190\n",
       "2021-09-17    188\n",
       "2021-09-13    185\n",
       "2021-09-02    179\n",
       "2021-09-25    177\n",
       "2021-09-07    176\n",
       "2021-09-14    176\n",
       "2021-09-05    170\n",
       "2021-09-27    169\n",
       "2021-09-26    167\n",
       "2021-09-12    167\n",
       "2021-09-23    166\n",
       "2021-09-09    166\n",
       "2021-09-11    165\n",
       "2021-09-15    164\n",
       "2021-09-10    162\n",
       "2021-09-19    161\n",
       "2021-09-22    160\n",
       "2021-09-01    160\n",
       "2021-09-16    160\n",
       "2021-09-24    159\n",
       "2021-09-21    157\n",
       "2021-09-30    156\n",
       "2021-09-28    156\n",
       "2021-09-20    153\n",
       "2021-09-06    149\n",
       "2021-09-04    149\n",
       "2021-09-29    148\n",
       "2021-09-18    141\n",
       "Name: CollDate, dtype: int64"
      ]
     },
     "execution_count": 12,
     "metadata": {},
     "output_type": "execute_result"
    }
   ],
   "source": [
    "df['CollDate'].value_counts()"
   ]
  },
  {
   "cell_type": "code",
   "execution_count": 13,
   "id": "3dc47b46",
   "metadata": {},
   "outputs": [
    {
     "data": {
      "text/plain": [
       "More than one race                     849\n",
       "White                                  847\n",
       "American Indian or Alaska Native       846\n",
       "Native Hawaiian or Pacific Islander    830\n",
       "Asian                                  820\n",
       "Black or African American              808\n",
       "Name: P_RACE, dtype: int64"
      ]
     },
     "execution_count": 13,
     "metadata": {},
     "output_type": "execute_result"
    }
   ],
   "source": [
    "df['P_RACE'].value_counts()"
   ]
  },
  {
   "cell_type": "code",
   "execution_count": 14,
   "id": "6cda3a1e",
   "metadata": {},
   "outputs": [
    {
     "data": {
      "text/plain": [
       "M    2542\n",
       "F    2458\n",
       "Name: P_GENDER, dtype: int64"
      ]
     },
     "execution_count": 14,
     "metadata": {},
     "output_type": "execute_result"
    }
   ],
   "source": [
    "df['P_GENDER'].value_counts()"
   ]
  },
  {
   "cell_type": "code",
   "execution_count": 16,
   "id": "7f5488ee",
   "metadata": {},
   "outputs": [
    {
     "data": {
      "text/plain": [
       "T    2509\n",
       "F    2491\n",
       "Name: P_HOSP, dtype: int64"
      ]
     },
     "execution_count": 16,
     "metadata": {},
     "output_type": "execute_result"
    }
   ],
   "source": [
    "df['P_HOSP'].value_counts()"
   ]
  },
  {
   "cell_type": "markdown",
   "id": "f651e7d0",
   "metadata": {},
   "source": [
    "## Number of positives and negatives per zip code "
   ]
  },
  {
   "cell_type": "code",
   "execution_count": 4,
   "id": "1a87819d",
   "metadata": {},
   "outputs": [
    {
     "data": {
      "image/png": "[encoded data removed]",
      "text/plain": [
       "<Figure size 1080x504 with 1 Axes>"
      ]
     },
     "metadata": {
      "needs_background": "light"
     },
     "output_type": "display_data"
    }
   ],
   "source": [
    "plt.figure(figsize=(15,7))\n",
    "sns.boxplot(x = \"P_ZIP\", y = \"Result\", data = df, palette = 'PuBu')\n",
    "plt.xticks(rotation = 60)\n",
    "plt.show()"
   ]
  },
  {
   "cell_type": "markdown",
   "id": "d1737931",
   "metadata": {},
   "source": [
    "## Positivity rate per zip code"
   ]
  },
  {
   "cell_type": "code",
   "execution_count": null,
   "id": "b839be2d",
   "metadata": {},
   "outputs": [],
   "source": []
  },
  {
   "cell_type": "markdown",
   "id": "ccbd2197",
   "metadata": {},
   "source": [
    "## Write results to a file "
   ]
  },
  {
   "cell_type": "code",
   "execution_count": null,
   "id": "cce40449",
   "metadata": {},
   "outputs": [],
   "source": []
  },
  {
   "cell_type": "code",
   "execution_count": null,
   "id": "7003c341",
   "metadata": {},
   "outputs": [],
   "source": []
  }
 ],
 "metadata": {
  "kernelspec": {
   "display_name": "Python 3",
   "language": "python",
   "name": "python3"
  },
  "language_info": {
   "codemirror_mode": {
    "name": "ipython",
    "version": 3
   },
   "file_extension": ".py",
   "mimetype": "text/x-python",
   "name": "python",
   "nbconvert_exporter": "python",
   "pygments_lexer": "ipython3",
   "version": "3.8.8"
  }
 },
 "nbformat": 4,
 "nbformat_minor": 5
}
